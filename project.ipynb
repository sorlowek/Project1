{
 "cells": [
  {
   "cell_type": "code",
   "execution_count": 1,
   "metadata": {
    "scrolled": true
   },
   "outputs": [],
   "source": [
    "import requests\n",
    "\n",
    "\n",
    "base_url = \"https://kiwicom-prod.apigee.net/v2/search?\"\n",
    "apikey= \"apikey=APlFNwzVYPN7Ies4YQzavAnYfqKvDLib\"\n",
    "from_city = \"&fly_from=\"\n",
    "to_city = \"&fly_to=\"\n",
    "start = \"&date_from=\"\n",
    "origin = \"ORD\"\n",
    "#dest_cities = [\"LGA\"]\n",
    "dest_cities = [\"LGA\", \"JFK\"]\n",
    "date = \"&date_from=\"\n",
    "date_to = \"&date_to=\"\n",
    "start = \"01%2F02%2F2019\"\n",
    "end = \"01%2F02%2F2019\"\n",
    "curr = \"&curr=\"\n",
    "currency = \"USD\"\n",
    "stops = \"&max_stopovers=\"\n",
    "num_stops = 0\n",
    "\n",
    "#query_url = (f\"{base_url}{apikey}{from_city}{origin}{to_city}{dest_cities}{date}{start}{date_to}{end}{curr}{currency}{stops}{num_stops}\")\n"
   ]
  },
  {
   "cell_type": "code",
   "execution_count": 4,
   "metadata": {},
   "outputs": [
    {
     "data": {
      "text/plain": [
       "2"
      ]
     },
     "execution_count": 4,
     "metadata": {},
     "output_type": "execute_result"
    }
   ],
   "source": [
    "len(dest_cities)"
   ]
  },
  {
   "cell_type": "code",
   "execution_count": 6,
   "metadata": {},
   "outputs": [
    {
     "ename": "SyntaxError",
     "evalue": "invalid syntax (<ipython-input-6-854ccb5e169f>, line 2)",
     "output_type": "error",
     "traceback": [
      "\u001b[0;36m  File \u001b[0;32m\"<ipython-input-6-854ccb5e169f>\"\u001b[0;36m, line \u001b[0;32m2\u001b[0m\n\u001b[0;31m    for 0 to len(dest_cities):\u001b[0m\n\u001b[0m           ^\u001b[0m\n\u001b[0;31mSyntaxError\u001b[0m\u001b[0;31m:\u001b[0m invalid syntax\n"
     ]
    }
   ],
   "source": [
    "for r in range(len(ChangeList))\n",
    "    query_url = (f\"{base_url}{apikey}{from_city}{origin}{to_city}{dest_cities[city]}{date}{start}{date_to}{end}{curr}{currency}{stops}{num_stops}\") \n",
    "query_url\n"
   ]
  },
  {
   "cell_type": "code",
   "execution_count": null,
   "metadata": {},
   "outputs": [],
   "source": [
    "responses = requests.get(query_url).json()\n",
    "\n",
    "responses\n"
   ]
  },
  {
   "cell_type": "code",
   "execution_count": null,
   "metadata": {},
   "outputs": [],
   "source": [
    "import pandas as pd\n",
    "from pprint import pprint"
   ]
  },
  {
   "cell_type": "code",
   "execution_count": null,
   "metadata": {},
   "outputs": [],
   "source": [
    "prices = responses['data'][0]['price']\n",
    "airlines = responses['data'][0]['airlines']"
   ]
  },
  {
   "cell_type": "code",
   "execution_count": null,
   "metadata": {},
   "outputs": [],
   "source": [
    "responses_dict = {'Price': prices,'Airline': airlines}\n",
    "responses_df = pd.DataFrame(responses_dict)\n",
    "responses_df.head()"
   ]
  }
 ],
 "metadata": {
  "kernelspec": {
   "display_name": "Python 3",
   "language": "python",
   "name": "python3"
  },
  "language_info": {
   "codemirror_mode": {
    "name": "ipython",
    "version": 3
   },
   "file_extension": ".py",
   "mimetype": "text/x-python",
   "name": "python",
   "nbconvert_exporter": "python",
   "pygments_lexer": "ipython3",
   "version": "3.7.0"
  }
 },
 "nbformat": 4,
 "nbformat_minor": 2
}
