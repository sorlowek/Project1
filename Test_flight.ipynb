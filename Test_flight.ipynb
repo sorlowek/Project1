{
 "cells": [
  {
   "cell_type": "code",
   "execution_count": 1,
   "metadata": {},
   "outputs": [],
   "source": [
    "import json\n",
    "import requests\n",
    "from kiwiconfig import apikey"
   ]
  },
  {
   "cell_type": "code",
   "execution_count": 17,
   "metadata": {},
   "outputs": [],
   "source": [
    "url = \"https://kiwicom-prod.apigee.net/v2/search?\"\n",
    "# Build query URL\n",
    "query_url = url + \"apikey=\" + \"APlFNwzVYPN7Ies4YQzavAnYfqKvDLib\" + \"fly_from=ORD&fly_to=LAX&date_from=25%2F12%2F2019&date_to=26%2F12%2F2019&curr=USD\""
   ]
  },
  {
   "cell_type": "code",
   "execution_count": 18,
   "metadata": {},
   "outputs": [
    {
     "name": "stdout",
     "output_type": "stream",
     "text": [
      "The flight API responded with: {'fault': {'faultstring': 'Invalid ApiKey', 'detail': {'errorcode': 'oauth.v2.InvalidApiKey'}}}.\n"
     ]
    }
   ],
   "source": [
    "# Get Flight data\n",
    "flight_response = requests.get(query_url)\n",
    "flight_json = flight_response.json()\n",
    "\n",
    "# Get the flight from the response\n",
    "print(f\"The flight API responded with: {flight_json}.\")"
   ]
  },
  {
   "cell_type": "code",
   "execution_count": 11,
   "metadata": {},
   "outputs": [
    {
     "data": {
      "text/plain": [
       "{'ref_tasks': [],\n",
       " 'search_params': {'to_type': 'airport',\n",
       "  'flyFrom_type': 'airport',\n",
       "  'seats': {'infants': 0, 'passengers': 1, 'adults': 1, 'children': 0}},\n",
       " 'currency_rate': 1,\n",
       " 'refresh': [],\n",
       " 'connections': [],\n",
       " 'currency': 'EUR',\n",
       " '_results': 0,\n",
       " 'del': None,\n",
       " 'all_airlines': [],\n",
       " 'time': 1,\n",
       " 'all_stopover_airports': [],\n",
       " 'data': [],\n",
       " 'search_id': 'cf467024-0840-4a02-9716-1157703fe7f6'}"
      ]
     },
     "execution_count": 11,
     "metadata": {},
     "output_type": "execute_result"
    }
   ],
   "source": [
    "import requests\n",
    "\n",
    "query_url = \"https://kiwicom-prod.apigee.net/v2/search?apikey=APlFNwzVYPN7Ies4YQzavAnYfqKvDLib&fly_from=DUS&fly_to=DUB&date_from=05%2F12%2F2019&date_to=25%2F12%2F2019&flight_type=oneway&adults=1&max_stopovers=2&limit=30\"\n",
    "\n",
    "responses = requests.get(query_url).json()\n",
    "\n",
    "responses"
   ]
  },
  {
   "cell_type": "code",
   "execution_count": null,
   "metadata": {},
   "outputs": [],
   "source": []
  }
 ],
 "metadata": {
  "kernelspec": {
   "display_name": "Python 3",
   "language": "python",
   "name": "python3"
  },
  "language_info": {
   "codemirror_mode": {
    "name": "ipython",
    "version": 3
   },
   "file_extension": ".py",
   "mimetype": "text/x-python",
   "name": "python",
   "nbconvert_exporter": "python",
   "pygments_lexer": "ipython3",
   "version": "3.7.0"
  }
 },
 "nbformat": 4,
 "nbformat_minor": 2
}
