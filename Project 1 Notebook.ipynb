{
 "cells": [
  {
   "cell_type": "code",
   "execution_count": 10,
   "metadata": {},
   "outputs": [
    {
     "data": {
      "text/plain": [
       "{'ref_tasks': [],\n",
       " 'search_params': {'to_type': 'airport',\n",
       "  'flyFrom_type': 'airport',\n",
       "  'seats': {'infants': 0, 'passengers': 1, 'adults': 1, 'children': 0}},\n",
       " 'currency_rate': 1,\n",
       " 'refresh': [],\n",
       " 'connections': [],\n",
       " 'currency': 'EUR',\n",
       " '_results': 0,\n",
       " 'del': None,\n",
       " 'all_airlines': [],\n",
       " 'time': 1,\n",
       " 'all_stopover_airports': [],\n",
       " 'data': [],\n",
       " 'search_id': 'bdffa3bf-6368-4cac-ae70-e7b3384bed8b'}"
      ]
     },
     "execution_count": 10,
     "metadata": {},
     "output_type": "execute_result"
    }
   ],
   "source": [
    "# Dependencies and Setup\n",
    "import matplotlib.pyplot as plt\n",
    "import pandas as pd\n",
    "import numpy as np\n",
    "import json\n",
    "from pprint import pprint\n",
    "\n",
    "# Import API key\n",
    "from api_keys import api_key\n",
    "\n",
    "query_url = 'https://kiwicom-prod.apigee.net/v2/search?apikey=9WvOlFqf3MRmTpmAyI0pFxjagKSxHpPn&fly_from=ORD&fly_to=LAX&date_from=05%2F12%2F2019&date_to=25%2F12%2F2019&flight_type=oneway&adults=1&max_stopovers=2&limit=30'\n",
    "\n",
    "responses = requests.get(query_url).json()\n",
    "\n",
    "responses"
   ]
  },
  {
   "cell_type": "code",
   "execution_count": null,
   "metadata": {},
   "outputs": [],
   "source": [
    "\n"
   ]
  }
 ],
 "metadata": {
  "kernelspec": {
   "display_name": "Python 3",
   "language": "python",
   "name": "python3"
  },
  "language_info": {
   "codemirror_mode": {
    "name": "ipython",
    "version": 3
   },
   "file_extension": ".py",
   "mimetype": "text/x-python",
   "name": "python",
   "nbconvert_exporter": "python",
   "pygments_lexer": "ipython3",
   "version": "3.7.0"
  }
 },
 "nbformat": 4,
 "nbformat_minor": 2
}
